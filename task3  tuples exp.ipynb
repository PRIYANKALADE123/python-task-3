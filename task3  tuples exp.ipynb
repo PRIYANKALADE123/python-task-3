{
 "cells": [
  {
   "cell_type": "markdown",
   "id": "653be013-86e2-46c5-9b70-e4a8f93e3cae",
   "metadata": {},
   "source": [
    "* ## Python Tuples"
   ]
  },
  {
   "cell_type": "markdown",
   "id": "7d66b3a0-2fdc-49bb-b1e2-d5099030ffd3",
   "metadata": {},
   "source": [
    "* Examples:"
   ]
  },
  {
   "cell_type": "code",
   "execution_count": 1,
   "id": "4f45afd3-0ad3-4bb7-aa0d-4aac6b2f4aa0",
   "metadata": {},
   "outputs": [
    {
     "name": "stdout",
     "output_type": "stream",
     "text": [
      "(0, [1, 2, 3], (4, 5, 6), 7.0)\n",
      "<class 'tuple'>\n"
     ]
    }
   ],
   "source": [
    "a_tuple = (0, [1, 2, 3], (4, 5, 6), 7.0)\n",
    "print(a_tuple)\n",
    "print(type(a_tuple))\n"
   ]
  },
  {
   "cell_type": "code",
   "execution_count": null,
   "id": "8d3ff0ae-bbfa-4ff9-99d5-f8059d4de287",
   "metadata": {},
   "outputs": [],
   "source": []
  },
  {
   "cell_type": "code",
   "execution_count": 2,
   "id": "27718179-3dbf-42c9-a5de-72a30e85bbc8",
   "metadata": {},
   "outputs": [
    {
     "name": "stdout",
     "output_type": "stream",
     "text": [
      "(0, [1, 2, 3], (4, 5, 6), 7.0)\n",
      "5\n"
     ]
    }
   ],
   "source": [
    "a_tuple = (0, [1, 2, 3], (4, 5, 6), 7.0)\n",
    "print(a_tuple)\n",
    "print(a_tuple[2][1])\n"
   ]
  },
  {
   "cell_type": "code",
   "execution_count": 3,
   "id": "95e43dc7-2360-4069-8328-bd535684dc24",
   "metadata": {},
   "outputs": [
    {
     "name": "stdout",
     "output_type": "stream",
     "text": [
      "(2, 4, 5)\n",
      "(8, 10)\n",
      "(7, 8, 10)\n",
      "(5, 7, 8)\n"
     ]
    }
   ],
   "source": [
    "num_tuple = 2, 4, 5, 7, 8, 10\n",
    "print(num_tuple[:3])\n",
    "print(num_tuple[4:])\n",
    "print(num_tuple[-3:])\n",
    "print(num_tuple[2:5])"
   ]
  },
  {
   "cell_type": "code",
   "execution_count": null,
   "id": "382a2548-a57a-4414-b2b3-c756bd9a2a41",
   "metadata": {},
   "outputs": [],
   "source": []
  },
  {
   "cell_type": "code",
   "execution_count": 4,
   "id": "855e1a62-671b-4e2f-8ab6-5cab0beca276",
   "metadata": {},
   "outputs": [
    {
     "name": "stdout",
     "output_type": "stream",
     "text": [
      "(1, 2, 3, 4)\n"
     ]
    }
   ],
   "source": [
    "tuple_1 = (1, 2)\n",
    "tuple_2 = (3, 4)\n",
    "print(tuple_1 + tuple_2)"
   ]
  },
  {
   "cell_type": "code",
   "execution_count": null,
   "id": "f0390a14-049a-4abb-97d5-64375c13aced",
   "metadata": {},
   "outputs": [],
   "source": []
  },
  {
   "cell_type": "code",
   "execution_count": 5,
   "id": "0cb4fbf7-dcf6-4d36-a6d3-14c181cd902b",
   "metadata": {},
   "outputs": [
    {
     "name": "stdout",
     "output_type": "stream",
     "text": [
      "(1, 7, 9, 8, 1, 7, 9, 8)\n"
     ]
    }
   ],
   "source": [
    "my_tuple = (1, 7, 9, 8)\n",
    "print(my_tuple * 2)"
   ]
  },
  {
   "cell_type": "code",
   "execution_count": null,
   "id": "1b521f9a-c227-4960-8134-6b5211918f32",
   "metadata": {},
   "outputs": [],
   "source": []
  },
  {
   "cell_type": "code",
   "execution_count": 10,
   "id": "ebcbe24f-5c78-467e-b76a-40cbeafa6b77",
   "metadata": {},
   "outputs": [
    {
     "name": "stdout",
     "output_type": "stream",
     "text": [
      "3\n"
     ]
    }
   ],
   "source": [
    "my_tuple = (1, 2, 3, 2, 4, 2)\n",
    "count = my_tuple.count(2)\n",
    "print(count)\n"
   ]
  },
  {
   "cell_type": "code",
   "execution_count": 11,
   "id": "20f8d713-6707-4a4d-a8fe-007aba311349",
   "metadata": {},
   "outputs": [
    {
     "name": "stdout",
     "output_type": "stream",
     "text": [
      "6\n"
     ]
    }
   ],
   "source": [
    "my_tuple = (1, 2, 3, 2, 4, 2)\n",
    "length = len(my_tuple)\n",
    "print(length)"
   ]
  },
  {
   "cell_type": "code",
   "execution_count": 13,
   "id": "74bbdc48-bed0-46e3-8b60-e28faee4bfe5",
   "metadata": {},
   "outputs": [
    {
     "name": "stdout",
     "output_type": "stream",
     "text": [
      "[1, 2, 3, 4]\n"
     ]
    }
   ],
   "source": [
    "my_tuple = (3, 1, 4, 2)\n",
    "sorted_tuple = sorted(my_tuple)\n",
    "\n",
    "print(sorted(my_tuple))"
   ]
  },
  {
   "cell_type": "code",
   "execution_count": null,
   "id": "4ea32da9-75cc-4442-9372-f7b50e1ff7b2",
   "metadata": {},
   "outputs": [],
   "source": []
  },
  {
   "cell_type": "code",
   "execution_count": 15,
   "id": "e156a4c7-a66b-4dc9-9cb4-5a01570f9182",
   "metadata": {},
   "outputs": [
    {
     "name": "stdout",
     "output_type": "stream",
     "text": [
      "1\n"
     ]
    }
   ],
   "source": [
    "my_tuple = (3, 1, 4, 2)\n",
    "smallest = min(my_tuple)\n",
    "print(smallest)"
   ]
  },
  {
   "cell_type": "code",
   "execution_count": 16,
   "id": "9dff9043-d1a4-4304-b61a-0f32a278c5be",
   "metadata": {},
   "outputs": [
    {
     "name": "stdout",
     "output_type": "stream",
     "text": [
      "4\n"
     ]
    }
   ],
   "source": [
    "my_tuple = (3, 1, 4, 2)\n",
    "highest = max (my_tuple)\n",
    "print(highest)"
   ]
  },
  {
   "cell_type": "code",
   "execution_count": 17,
   "id": "6f44950e-7b1f-4e41-b331-2bb53c3b8d9c",
   "metadata": {},
   "outputs": [
    {
     "name": "stdout",
     "output_type": "stream",
     "text": [
      "(1, 2, 3, 1, 2, 3, 1, 2, 3)\n"
     ]
    }
   ],
   "source": [
    "my_tuple = (1, 2, 3)\n",
    "replicated_tuple = my_tuple * 3\n",
    "print(replicated_tuple) "
   ]
  },
  {
   "cell_type": "code",
   "execution_count": null,
   "id": "15f3ce67-5c0c-410e-8f0a-5a36e1af7a3c",
   "metadata": {},
   "outputs": [],
   "source": []
  }
 ],
 "metadata": {
  "kernelspec": {
   "display_name": "Python 3 (ipykernel)",
   "language": "python",
   "name": "python3"
  },
  "language_info": {
   "codemirror_mode": {
    "name": "ipython",
    "version": 3
   },
   "file_extension": ".py",
   "mimetype": "text/x-python",
   "name": "python",
   "nbconvert_exporter": "python",
   "pygments_lexer": "ipython3",
   "version": "3.12.4"
  }
 },
 "nbformat": 4,
 "nbformat_minor": 5
}
