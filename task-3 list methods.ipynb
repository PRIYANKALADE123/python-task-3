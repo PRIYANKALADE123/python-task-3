{
 "cells": [
  {
   "cell_type": "markdown",
   "id": "50e53103-5cfc-429b-bf3d-8d3e20ebc45d",
   "metadata": {},
   "source": [
    "# list methods in Python\n"
   ]
  },
  {
   "cell_type": "code",
   "execution_count": null,
   "id": "e02811db-af22-4d0f-a9dd-288dc022d564",
   "metadata": {},
   "outputs": [],
   "source": []
  },
  {
   "cell_type": "markdown",
   "id": "74363059-b607-4e81-a070-36963ca54ab4",
   "metadata": {},
   "source": [
    "* ## Append() method :\n",
    "* Append method is used to add elements at the end of the list.le"
   ]
  },
  {
   "cell_type": "markdown",
   "id": "bc8df778-c07e-43dd-a12c-e2ad7d7bfec0",
   "metadata": {},
   "source": [
    "*  https://www.geeksforgeeks.org/python-list-append-method/\n",
    "*  Examples"
   ]
  },
  {
   "cell_type": "code",
   "execution_count": 1,
   "id": "92d24e67-a67d-449d-8017-9853ef3629e0",
   "metadata": {},
   "outputs": [
    {
     "name": "stdout",
     "output_type": "stream",
     "text": [
      "['apple', 4, 8, 234, 'true', 'orange']\n"
     ]
    }
   ],
   "source": [
    "l1=['apple',4,8,234,'true']\n",
    "l1.append(\"orange\")\n",
    "print(l1)"
   ]
  },
  {
   "cell_type": "code",
   "execution_count": null,
   "id": "2fe2c336-e16f-4fd1-a46e-25ff1839f5ca",
   "metadata": {},
   "outputs": [],
   "source": []
  },
  {
   "cell_type": "code",
   "execution_count": 3,
   "id": "4796fe8f-fa9a-4adf-a1b9-e5031cd74bfa",
   "metadata": {},
   "outputs": [
    {
     "name": "stdout",
     "output_type": "stream",
     "text": [
      "['geeks', 'for', 'geeks', [6, 0, 4, 1]]\n"
     ]
    }
   ],
   "source": [
    "my_list = ['geeks', 'for', 'geeks'] \n",
    " \n",
    "another_list = [6, 0, 4, 1] \n",
    "\n",
    "# append another_list to my_list \n",
    "\n",
    "my_list.append(another_list) \n",
    "\n",
    "print(my_list)\n"
   ]
  },
  {
   "cell_type": "code",
   "execution_count": null,
   "id": "6a7c76cb-179e-4ff3-8cb1-381979335a82",
   "metadata": {},
   "outputs": [],
   "source": []
  },
  {
   "cell_type": "markdown",
   "id": "30fb0dc9-0dec-4f44-8d6b-6ee6b664c612",
   "metadata": {},
   "source": [
    "* ##  Insert() Method :\n",
    "* Python List insert() method inserts an item at a specific index in a list.\r\n",
    "\r\n"
   ]
  },
  {
   "cell_type": "markdown",
   "id": "33e6c4a3-7750-43b7-951a-8fbc1b3a84d3",
   "metadata": {},
   "source": [
    "* https://www.geeksforgeeks.org/python-list-insert/\n",
    "* Examples:"
   ]
  },
  {
   "cell_type": "code",
   "execution_count": 4,
   "id": "3662a7bf-0f1b-4797-a86e-80849192e86e",
   "metadata": {},
   "outputs": [
    {
     "name": "stdout",
     "output_type": "stream",
     "text": [
      "[43, 45, 45, 99, 76]\n"
     ]
    }
   ],
   "source": [
    "# making a list\n",
    "score = [43,45,99,76]\n",
    "#inserting a new score at third position\n",
    "score.insert(2, 45)\n",
    "#printing new list\n",
    "print(score)\n"
   ]
  },
  {
   "cell_type": "code",
   "execution_count": 5,
   "id": "b1deca96-4908-46bb-a4f6-e0fcdca865d8",
   "metadata": {},
   "outputs": [
    {
     "name": "stdout",
     "output_type": "stream",
     "text": [
      "['The', 'Sun', 'rises', 'in', 'the', 'east']\n"
     ]
    }
   ],
   "source": [
    "list = ['Sun', 'rises', 'in', 'the', 'east']\n",
    "list.insert(0, \"The\")\n",
    "print(list)\n"
   ]
  },
  {
   "cell_type": "code",
   "execution_count": null,
   "id": "293109d9-6738-4652-9515-b2e73104a2d2",
   "metadata": {},
   "outputs": [],
   "source": []
  },
  {
   "cell_type": "markdown",
   "id": "313735dd-79ff-40fb-8276-41190ae3dcfe",
   "metadata": {},
   "source": [
    "* #  Extend() Method :\n",
    "* The Python List extend() method adds items of an iterable (list, tuple, dictionary, etc) at the end of a list.\r\n",
    "\r\n"
   ]
  },
  {
   "cell_type": "markdown",
   "id": "4f5f6f48-f196-4ce8-8aa2-a0e11647d046",
   "metadata": {},
   "source": [
    "* https://www.geeksforgeeks.org/python-list-extend-method/?ref=lbp\n",
    "* Examples:"
   ]
  },
  {
   "cell_type": "code",
   "execution_count": 6,
   "id": "e54e7353-f6f4-48aa-8918-a80a00f3cf5e",
   "metadata": {},
   "outputs": [
    {
     "name": "stdout",
     "output_type": "stream",
     "text": [
      "['apple', 'milk', 'cookies', 'diaper', 'baby oil']\n"
     ]
    }
   ],
   "source": [
    "#creating list\n",
    "shopping = [\"apple\", \"milk\", \"cookies\"]\n",
    "more_items = [\"diaper\", \"baby oil\"]\n",
    "#extending shopping list\n",
    "shopping.extend(more_items)\n",
    "#printing shopping list\n",
    "print(shopping)\n"
   ]
  },
  {
   "cell_type": "code",
   "execution_count": 7,
   "id": "720a2110-4041-4ec5-910c-1b073e2fb1ae",
   "metadata": {},
   "outputs": [
    {
     "name": "stdout",
     "output_type": "stream",
     "text": [
      "['geeks', 'for', 6, 0, 4, 1, 'g', 'e', 'e', 'k', 's']\n"
     ]
    }
   ],
   "source": [
    "# My list\n",
    "my_list = ['geeks', 'for', 6, 0, 4, 1]\n",
    "\n",
    "# My string\n",
    "my_list.extend('geeks')\n",
    "\n",
    "print(my_list)\n"
   ]
  },
  {
   "cell_type": "code",
   "execution_count": null,
   "id": "af681e01-2ad5-4839-b33e-d5c896e98235",
   "metadata": {},
   "outputs": [],
   "source": []
  },
  {
   "cell_type": "markdown",
   "id": "bf9d3619-b2a8-431f-85eb-ffbb6d901344",
   "metadata": {},
   "source": [
    "* ## List index():\n",
    "* List index() method searches for a given element from the start of the list and returns the position of the first occurrence.\r\n",
    "\r\n"
   ]
  },
  {
   "cell_type": "markdown",
   "id": "78d1d038-2dda-4885-9ea3-a6c619172a8e",
   "metadata": {},
   "source": [
    "* https://www.geeksforgeeks.org/python-list-index/?ref=lbp\n",
    "* Examples:"
   ]
  },
  {
   "cell_type": "code",
   "execution_count": 8,
   "id": "0b6bc69d-b051-4e6b-9a6a-b8869a7e69e7",
   "metadata": {},
   "outputs": [
    {
     "ename": "ValueError",
     "evalue": "10 is not in list",
     "output_type": "error",
     "traceback": [
      "\u001b[1;31m---------------------------------------------------------------------------\u001b[0m",
      "\u001b[1;31mValueError\u001b[0m                                Traceback (most recent call last)",
      "Cell \u001b[1;32mIn[8], line 7\u001b[0m\n\u001b[0;32m      4\u001b[0m list1 \u001b[38;5;241m=\u001b[39m [\u001b[38;5;241m1\u001b[39m, \u001b[38;5;241m2\u001b[39m, \u001b[38;5;241m3\u001b[39m, \u001b[38;5;241m4\u001b[39m, \u001b[38;5;241m1\u001b[39m, \u001b[38;5;241m1\u001b[39m, \u001b[38;5;241m1\u001b[39m, \u001b[38;5;241m4\u001b[39m, \u001b[38;5;241m5\u001b[39m]\n\u001b[0;32m      6\u001b[0m \u001b[38;5;66;03m# Return ValueError\u001b[39;00m\n\u001b[1;32m----> 7\u001b[0m \u001b[38;5;28mprint\u001b[39m(\u001b[43mlist1\u001b[49m\u001b[38;5;241;43m.\u001b[39;49m\u001b[43mindex\u001b[49m\u001b[43m(\u001b[49m\u001b[38;5;241;43m10\u001b[39;49m\u001b[43m)\u001b[49m)\n",
      "\u001b[1;31mValueError\u001b[0m: 10 is not in list"
     ]
    }
   ],
   "source": [
    "# Python3 program for demonstration\n",
    "# of index() method error\n",
    "\n",
    "list1 = [1, 2, 3, 4, 1, 1, 1, 4, 5]\n",
    "\n",
    "# Return ValueError\n",
    "print(list1.index(10))\n"
   ]
  },
  {
   "cell_type": "code",
   "execution_count": 9,
   "id": "f1538af6-73b8-44dd-b516-ed9bdd011b2a",
   "metadata": {},
   "outputs": [
    {
     "name": "stdout",
     "output_type": "stream",
     "text": [
      "3\n"
     ]
    }
   ],
   "source": [
    "# list of items\n",
    "list1 = [6, 8, 5, 6, 1, 2]\n",
    "\n",
    "# Will print index of '6' in sublist\n",
    "# having index from 1 to end of the list.\n",
    "print(list1.index(6, 1))\n"
   ]
  },
  {
   "cell_type": "code",
   "execution_count": 11,
   "id": "edcf323c-cd2f-494b-ae6b-d8206b3ac65c",
   "metadata": {},
   "outputs": [
    {
     "name": "stdout",
     "output_type": "stream",
     "text": [
      "1\n",
      "2\n",
      "3\n",
      "4\n",
      "5\n"
     ]
    }
   ],
   "source": [
    "li = [1,2 ,3, 4, 5]\n",
    "\n",
    "for i in range(5):\n",
    "    print(li[i])\n"
   ]
  },
  {
   "cell_type": "code",
   "execution_count": null,
   "id": "143583ea-5f74-4c44-a029-7e0c037be3c8",
   "metadata": {},
   "outputs": [],
   "source": []
  },
  {
   "cell_type": "markdown",
   "id": "b997e310-65ff-4f93-a082-a1c6e93e9a6d",
   "metadata": {},
   "source": [
    "* ### Max() Method:\n",
    "* Python list max() function in Python finds and returns the largest element in that list. \r\n"
   ]
  },
  {
   "cell_type": "markdown",
   "id": "d059b852-9949-4332-b39d-81249c800d22",
   "metadata": {},
   "source": [
    "* https://www.geeksforgeeks.org/python-list-max-method/?ref=lbp\n",
    "* Examples:"
   ]
  },
  {
   "cell_type": "code",
   "execution_count": 12,
   "id": "8842f5a9-4975-41d0-8eaa-cc94592a3596",
   "metadata": {},
   "outputs": [
    {
     "name": "stdout",
     "output_type": "stream",
     "text": [
      "e\n"
     ]
    }
   ],
   "source": [
    "# Declaring a list with random integers.\n",
    "list1 = ['a', '$', 'e', 'E']\n",
    "\n",
    "# Store maximum value in a variable\n",
    "# using Python list max() function.\n",
    "maxValue = max(list1)\n",
    "\n",
    "# Printing value stored in maxValue.\n",
    "print(maxValue)\n"
   ]
  },
  {
   "cell_type": "code",
   "execution_count": 13,
   "id": "d4f1c88e-4a6e-47a8-978d-85ca3197d31e",
   "metadata": {},
   "outputs": [
    {
     "ename": "TypeError",
     "evalue": "'>' not supported between instances of 'int' and 'str'",
     "output_type": "error",
     "traceback": [
      "\u001b[1;31m---------------------------------------------------------------------------\u001b[0m",
      "\u001b[1;31mTypeError\u001b[0m                                 Traceback (most recent call last)",
      "Cell \u001b[1;32mIn[13], line 6\u001b[0m\n\u001b[0;32m      2\u001b[0m list1 \u001b[38;5;241m=\u001b[39m [\u001b[38;5;124m'\u001b[39m\u001b[38;5;124ma\u001b[39m\u001b[38;5;124m'\u001b[39m, \u001b[38;5;124m'\u001b[39m\u001b[38;5;124m$\u001b[39m\u001b[38;5;124m'\u001b[39m, \u001b[38;5;124m'\u001b[39m\u001b[38;5;124me\u001b[39m\u001b[38;5;124m'\u001b[39m, \u001b[38;5;241m3\u001b[39m, \u001b[38;5;241m16\u001b[39m]\n\u001b[0;32m      4\u001b[0m \u001b[38;5;66;03m# Store maximum value in a variable\u001b[39;00m\n\u001b[0;32m      5\u001b[0m \u001b[38;5;66;03m# using Python list max() function.\u001b[39;00m\n\u001b[1;32m----> 6\u001b[0m maxValue \u001b[38;5;241m=\u001b[39m \u001b[38;5;28;43mmax\u001b[39;49m\u001b[43m(\u001b[49m\u001b[43mlist1\u001b[49m\u001b[43m)\u001b[49m\n\u001b[0;32m      8\u001b[0m \u001b[38;5;66;03m# Printing value stored in maxValue.\u001b[39;00m\n\u001b[0;32m      9\u001b[0m \u001b[38;5;28mprint\u001b[39m(maxValue)\n",
      "\u001b[1;31mTypeError\u001b[0m: '>' not supported between instances of 'int' and 'str'"
     ]
    }
   ],
   "source": [
    "# Declaring a list with mixed values.\n",
    "list1 = ['a', '$', 'e', 3, 16]\n",
    "\n",
    "# Store maximum value in a variable\n",
    "# using Python list max() function.\n",
    "maxValue = max(list1)\n",
    "\n",
    "# Printing value stored in maxValue.\n",
    "print(maxValue)\n"
   ]
  },
  {
   "cell_type": "code",
   "execution_count": 14,
   "id": "2ea8e46d-318a-4125-94ab-bc65e8285670",
   "metadata": {},
   "outputs": [
    {
     "name": "stdout",
     "output_type": "stream",
     "text": [
      "61\n"
     ]
    }
   ],
   "source": [
    "# Declaring a list with mixed values.\n",
    "list1 = ['!', '$', '/', '3', '61']\n",
    "\n",
    "# Store maximum value in a variable\n",
    "# using Python list max() function.\n",
    "maxValue = max(list1)\n",
    "\n",
    "# Printing value stored in maxValue.\n",
    "print(maxValue)\n"
   ]
  },
  {
   "cell_type": "code",
   "execution_count": null,
   "id": "0736e6db-22d8-48b5-a81f-e82dee437fe9",
   "metadata": {},
   "outputs": [],
   "source": []
  },
  {
   "cell_type": "markdown",
   "id": "e602c025-9ec1-48f5-a5bb-7cb296d7a466",
   "metadata": {},
   "source": [
    "* ### Min() Function:\n",
    "* Python min() function is used to find the minimum value. It is the opposite function of max().\r\n",
    "You can use this function on any iterable like a string, list, tuple, etc. which makes it very useful."
   ]
  },
  {
   "cell_type": "markdown",
   "id": "76bab5c5-c304-49ac-937e-3b2786f6252c",
   "metadata": {},
   "source": [
    "* https://www.geeksforgeeks.org/python-min-function/?ref=lbp\n",
    "* Examples:\n"
   ]
  },
  {
   "cell_type": "code",
   "execution_count": 15,
   "id": "2b3c776d-4f63-426f-9575-6973cc7cad5a",
   "metadata": {},
   "outputs": [
    {
     "name": "stdout",
     "output_type": "stream",
     "text": [
      "The smallest string is: C Programming\n"
     ]
    }
   ],
   "source": [
    "languages = [\"Python\", \"C Programming\", \"Java\", \"JavaScript\",'PHP','Kotlin']\n",
    "small = min(languages)\n",
    "print(\"The smallest string is:\", small)\n"
   ]
  },
  {
   "cell_type": "code",
   "execution_count": 16,
   "id": "d4184f01-2d69-4d63-b0e8-4138868dfe58",
   "metadata": {},
   "outputs": [
    {
     "name": "stdout",
     "output_type": "stream",
     "text": [
      "The smallest number is: 2\n"
     ]
    }
   ],
   "source": [
    "numbers = [3, 2, 8, 5, 10, 6]\n",
    "small = min(numbers);\n",
    "\n",
    "print(\"The smallest number is:\", small)\n"
   ]
  },
  {
   "cell_type": "code",
   "execution_count": null,
   "id": "c9236517-2eee-46dc-836e-c2cc0ed6634f",
   "metadata": {},
   "outputs": [],
   "source": []
  },
  {
   "cell_type": "markdown",
   "id": "221e1a2e-7d67-4e1c-9335-a7231c5dbeda",
   "metadata": {},
   "source": [
    "* ### Pop() Method:\n",
    "* Pop() function removes and returns the value at a specific index from a list. It is an inbuilt function of Python.It can be used with and without parameters; without a parameter list pop() returns and removes the last value from the list by default, but when given an index value as a parameter, it only returns and removes the element at that index.\n"
   ]
  },
  {
   "cell_type": "markdown",
   "id": "c629d16f-c051-4194-ad0d-f0ca6e95f2e9",
   "metadata": {},
   "source": [
    "* https://www.geeksforgeeks.org/python-list-pop-method/?ref=lbp\n",
    "* Examples:"
   ]
  },
  {
   "cell_type": "code",
   "execution_count": 17,
   "id": "390f7f22-e8d3-4095-bba0-e520b8727fa4",
   "metadata": {},
   "outputs": [
    {
     "name": "stdout",
     "output_type": "stream",
     "text": [
      "4 [1, 2, 3, 5, 6]\n"
     ]
    }
   ],
   "source": [
    "my_list = [1, 2, 3, 4, 5, 6]\n",
    "# Pops and removes the 3th index\n",
    "# element from the list\n",
    "print(my_list.pop(3), my_list)\n"
   ]
  },
  {
   "cell_type": "code",
   "execution_count": 18,
   "id": "958df4dc-4041-4ef4-9ce1-bd2c7e370c76",
   "metadata": {},
   "outputs": [
    {
     "name": "stdout",
     "output_type": "stream",
     "text": [
      "New list [1, 2, 3, 4, 6]\n",
      "Poped Item 5\n"
     ]
    }
   ],
   "source": [
    "my_list = [1, 2, 3, 4, 5, 6]\n",
    "poped_item = my_list.pop(-2)\n",
    "print(\"New list\", my_list)\n",
    "print(\"Poped Item\", poped_item)\n"
   ]
  },
  {
   "cell_type": "code",
   "execution_count": null,
   "id": "ab02cfb9-f2ec-457e-b913-ec4325057ab8",
   "metadata": {},
   "outputs": [],
   "source": []
  },
  {
   "cell_type": "markdown",
   "id": "42aca313-66c7-4123-bb35-b0fb38c15da7",
   "metadata": {},
   "source": [
    "* ###  Remove() Method:\n",
    "* The list remove() function in Python removes the first occurrence of a given item from the list. It make changes to the current list.It only takes one argument that is the element you want to remove and if that element is not present in the list, it gives ValueError.It is very useful in removing incorrect values from a list, without affecting the rest of the list."
   ]
  },
  {
   "cell_type": "markdown",
   "id": "7bd84924-52bf-4c6b-aa54-da71612f75e3",
   "metadata": {},
   "source": [
    "* https://www.geeksforgeeks.org/python-list-remove/?ref=lbp\n",
    "* Examples:"
   ]
  },
  {
   "cell_type": "code",
   "execution_count": 19,
   "id": "1a869951-a02c-4d92-89c3-8a0a22eb02d5",
   "metadata": {},
   "outputs": [
    {
     "name": "stdout",
     "output_type": "stream",
     "text": [
      "[2, 1, 1, 4, 5]\n",
      "['b', 'c', 'd']\n"
     ]
    }
   ],
   "source": [
    "# the first occurrence of 1 is removed from the list \n",
    "list1 = [ 1, 2, 1, 1, 4, 5 ] \n",
    "list1.remove(1) \n",
    "print(list1) \n",
    "\n",
    "# removes 'a' from list2 \n",
    "list2 = [ 'a', 'b', 'c', 'd' ] \n",
    "list2.remove('a') \n",
    "print(list2)\n"
   ]
  },
  {
   "cell_type": "code",
   "execution_count": null,
   "id": "71b0d523-56af-4f6e-bc4f-03e8183c8049",
   "metadata": {},
   "outputs": [],
   "source": []
  },
  {
   "cell_type": "code",
   "execution_count": 20,
   "id": "d24a8bfe-6642-4d6c-b90d-7f0b6bc7038b",
   "metadata": {},
   "outputs": [
    {
     "name": "stdout",
     "output_type": "stream",
     "text": [
      "['a', 'b', 'c', 'd', 'e', 'd']\n"
     ]
    }
   ],
   "source": [
    "# My List \n",
    "list2 = [ 'a', 'b', 'c', 'd', 'd', 'e', 'd' ]\n",
    "\n",
    "# removing 'd'\n",
    "list2.remove('d')\n",
    "\n",
    "print(list2)\n"
   ]
  },
  {
   "cell_type": "code",
   "execution_count": 21,
   "id": "2e978bdd-2e60-4539-827c-e6e4196e75cc",
   "metadata": {},
   "outputs": [
    {
     "name": "stdout",
     "output_type": "stream",
     "text": [
      "[1, 3]\n"
     ]
    }
   ],
   "source": [
    "mylist = [1, 2, 3, 2, 2]\n",
    "\n",
    "# looping till all 2's are removed\n",
    "while 2 in mylist:\n",
    "\tmylist.remove(2)\n",
    "\n",
    "print(mylist)\n"
   ]
  },
  {
   "cell_type": "code",
   "execution_count": null,
   "id": "73d1a945-2835-4e37-837a-42234b3b639c",
   "metadata": {},
   "outputs": [],
   "source": []
  },
  {
   "cell_type": "markdown",
   "id": "0bac8899-89fe-4df1-bf0e-32f0fc7671eb",
   "metadata": {},
   "source": [
    "* ### Reverse() method:\n",
    "* Python List reverse() is an inbuilt method in the Python programming language that reverses objects of the List in place i.e. it doesn’t use any extra space but it just modifies the original list.\n"
   ]
  },
  {
   "cell_type": "markdown",
   "id": "4d8d2f95-d74f-4c3b-84ea-577bab15b765",
   "metadata": {},
   "source": [
    "* https://www.geeksforgeeks.org/python-list-reverse/?ref=lbp\n",
    "* Examples:\n"
   ]
  },
  {
   "cell_type": "code",
   "execution_count": 23,
   "id": "1796f7d0-4ce0-4e9d-901e-e45862c67f96",
   "metadata": {},
   "outputs": [
    {
     "ename": "AttributeError",
     "evalue": "'str' object has no attribute 'reverse'",
     "output_type": "error",
     "traceback": [
      "\u001b[1;31m---------------------------------------------------------------------------\u001b[0m",
      "\u001b[1;31mAttributeError\u001b[0m                            Traceback (most recent call last)",
      "Cell \u001b[1;32mIn[23], line 6\u001b[0m\n\u001b[0;32m      1\u001b[0m \u001b[38;5;66;03m# Python3 program to demonstrate the\u001b[39;00m\n\u001b[0;32m      2\u001b[0m \u001b[38;5;66;03m# error in reverse() method\u001b[39;00m\n\u001b[0;32m      3\u001b[0m \n\u001b[0;32m      4\u001b[0m \u001b[38;5;66;03m# error when string is used in place of list\u001b[39;00m\n\u001b[0;32m      5\u001b[0m string \u001b[38;5;241m=\u001b[39m \u001b[38;5;124m\"\u001b[39m\u001b[38;5;124mabgedge\u001b[39m\u001b[38;5;124m\"\u001b[39m\n\u001b[1;32m----> 6\u001b[0m \u001b[43mstring\u001b[49m\u001b[38;5;241;43m.\u001b[39;49m\u001b[43mreverse\u001b[49m()\n\u001b[0;32m      7\u001b[0m \u001b[38;5;28mprint\u001b[39m(string)\n",
      "\u001b[1;31mAttributeError\u001b[0m: 'str' object has no attribute 'reverse'"
     ]
    }
   ],
   "source": [
    "# Python3 program to demonstrate the\n",
    "# error in reverse() method\n",
    "\n",
    "# error when string is used in place of list\n",
    "string = \"abgedge\"\n",
    "string.reverse()\n",
    "print(string)\n"
   ]
  },
  {
   "cell_type": "code",
   "execution_count": 24,
   "id": "12975ca8-8f2e-4dc1-90e4-66c3608beb23",
   "metadata": {},
   "outputs": [
    {
     "name": "stdout",
     "output_type": "stream",
     "text": [
      "Original list: [1, 'apple', 2.5, True]\n",
      "Reversed list: [True, 2.5, 'apple', 1]\n"
     ]
    }
   ],
   "source": [
    "my_list = [1, 'apple', 2.5, True]\n",
    "print('Original list:', my_list)\n",
    "my_list.reverse()\n",
    "print('Reversed list:', my_list)\n"
   ]
  },
  {
   "cell_type": "code",
   "execution_count": 25,
   "id": "4016f8d4-2f41-458a-a9c4-e73cea50e297",
   "metadata": {},
   "outputs": [
    {
     "name": "stdout",
     "output_type": "stream",
     "text": [
      "Original list: [1, 2, 3, 4, 5]\n",
      "Reversed sublist: [1, 4, 3, 2, 5]\n"
     ]
    }
   ],
   "source": [
    "my_list = [1, 2, 3, 4, 5]\n",
    "print('Original list:', my_list)\n",
    "my_list[1:4] = my_list[1:4][::-1]\n",
    "print('Reversed sublist:', my_list)\n"
   ]
  },
  {
   "cell_type": "code",
   "execution_count": null,
   "id": "ac2f2e48-eea9-4358-8ea0-c64d97c62bc9",
   "metadata": {},
   "outputs": [],
   "source": []
  },
  {
   "cell_type": "markdown",
   "id": "66716f8f-5eca-4a3f-a256-8f25320f3556",
   "metadata": {},
   "source": [
    "* ### Count() method:\n",
    "* list count() function in Python is a built-in function that lets you count the occurrence of an element in a list. It returns the count of how many times an element is present in a list.\r\n",
    "It has various applications depending on how you use it. For example: If the count of any element is greater than 1 that means there are duplicate values. If count is 0 that means the element is not present in the list. So depending on how you use it, it can have different use\r\n",
    "\r\n",
    "It only accepts one parameter, if you pass more than one parameter it raises TypeError."
   ]
  },
  {
   "cell_type": "markdown",
   "id": "72a5bf0d-7c89-4238-9ac2-6a634bf9bae8",
   "metadata": {},
   "source": [
    "* https://www.geeksforgeeks.org/python-list-count-method/?ref=lbp\n",
    "* Examples:"
   ]
  },
  {
   "cell_type": "code",
   "execution_count": 26,
   "id": "2835d44c-0574-4daf-87b9-68899c1aa78f",
   "metadata": {},
   "outputs": [
    {
     "name": "stdout",
     "output_type": "stream",
     "text": [
      "2\n",
      "2\n"
     ]
    }
   ],
   "source": [
    "list1 = [ ('Cat', 'Bat'), ('Sat', 'Cat'), ('Cat', 'Bat'),\n",
    "\t\t('Cat', 'Bat', 'Sat'), [1, 2], [1, 2, 3], [1, 2] ]\n",
    "\n",
    "# Counts the number of times 'Cat' appears in list1\n",
    "print(list1.count(('Cat', 'Bat')))\n",
    "\n",
    "# Count the number of times sublist\n",
    "# '[1, 2]' appears in list1\n",
    "print(list1.count([1, 2]))\n"
   ]
  },
  {
   "cell_type": "code",
   "execution_count": 27,
   "id": "5fe9a2f4-9f67-4236-99bd-f6da8bdbbd72",
   "metadata": {},
   "outputs": [
    {
     "ename": "TypeError",
     "evalue": "list.count() takes exactly one argument (2 given)",
     "output_type": "error",
     "traceback": [
      "\u001b[1;31m---------------------------------------------------------------------------\u001b[0m",
      "\u001b[1;31mTypeError\u001b[0m                                 Traceback (most recent call last)",
      "Cell \u001b[1;32mIn[27], line 4\u001b[0m\n\u001b[0;32m      1\u001b[0m list1 \u001b[38;5;241m=\u001b[39m [\u001b[38;5;241m1\u001b[39m, \u001b[38;5;241m1\u001b[39m, \u001b[38;5;241m1\u001b[39m, \u001b[38;5;241m2\u001b[39m, \u001b[38;5;241m3\u001b[39m, \u001b[38;5;241m2\u001b[39m, \u001b[38;5;241m1\u001b[39m] \n\u001b[0;32m      3\u001b[0m \u001b[38;5;66;03m# Error when two parameters is passed. \u001b[39;00m\n\u001b[1;32m----> 4\u001b[0m \u001b[38;5;28mprint\u001b[39m(\u001b[43mlist1\u001b[49m\u001b[38;5;241;43m.\u001b[39;49m\u001b[43mcount\u001b[49m\u001b[43m(\u001b[49m\u001b[38;5;241;43m1\u001b[39;49m\u001b[43m,\u001b[49m\u001b[43m \u001b[49m\u001b[38;5;241;43m2\u001b[39;49m\u001b[43m)\u001b[49m)\n",
      "\u001b[1;31mTypeError\u001b[0m: list.count() takes exactly one argument (2 given)"
     ]
    }
   ],
   "source": [
    "list1 = [1, 1, 1, 2, 3, 2, 1] \n",
    "\n",
    "# Error when two parameters is passed. \n",
    "print(list1.count(1, 2))\n"
   ]
  },
  {
   "cell_type": "code",
   "execution_count": null,
   "id": "1c46742e-c450-4c8f-b05a-f3873cf57f05",
   "metadata": {},
   "outputs": [],
   "source": []
  },
  {
   "cell_type": "markdown",
   "id": "48a2d604-437b-4615-94f2-1fb44909b940",
   "metadata": {},
   "source": [
    "* ### Copy() Method:\n",
    "* The list Copy() function in Python is used to create a copy of a list. There are two main ways to create a copy of the list Shallow copy and Deep copy. We will discuss the list copy() method in detail below.\n",
    "The list copy() function is used to create a copy of a list, which can be used to work and it will not affect the values in the original list. This gives freedom to manipulate data without worrying about data loss."
   ]
  },
  {
   "cell_type": "markdown",
   "id": "51ee892b-eb8b-4f2c-a20b-a4ea0a9bc4da",
   "metadata": {},
   "source": [
    "* https://www.geeksforgeeks.org/python-list-copy-method/?ref=lbp\n",
    "* Examples:"
   ]
  },
  {
   "cell_type": "code",
   "execution_count": 28,
   "id": "adaa7622-77bd-4554-bcf8-0d45a0abbeef",
   "metadata": {},
   "outputs": [
    {
     "name": "stdout",
     "output_type": "stream",
     "text": [
      "['Priya', 'Neha', 'Radha', 'Nami']\n"
     ]
    }
   ],
   "source": [
    "# Using List girls\n",
    "girls = [\"Priya\",\"Neha\",\"Radha\",\"Nami\"]\n",
    "# Creating new copy\n",
    "girlstudent = girls.copy()\n",
    "#printing new list\n",
    "print(girlstudent)\n"
   ]
  },
  {
   "cell_type": "code",
   "execution_count": 29,
   "id": "9679bdb7-8a2c-47a2-b2be-ef8c7909d846",
   "metadata": {},
   "outputs": [
    {
     "name": "stdout",
     "output_type": "stream",
     "text": [
      "The new list created is : [1, 2, 3, 4]\n",
      "The new list after adding new element : [1, 2, 3, 4, 5]\n",
      "The old list after adding new element to new list  : [1, 2, 3, 4]\n"
     ]
    }
   ],
   "source": [
    "# Initializing list \n",
    "lis1 = [ 1, 2, 3, 4 ]\n",
    "\n",
    "# Using copy() to create a shallow copy\n",
    "lis2 = lis1.copy()\n",
    "\n",
    "# Printing new list \n",
    "print (\"The new list created is : \" + str(lis2))\n",
    "\n",
    "# Adding new element to new list\n",
    "lis2.append(5)\n",
    "\n",
    "# Printing lists after adding new element\n",
    "# No change in old list\n",
    "print (\"The new list after adding new element : \\\n",
    "\" + str(lis2))\n",
    "print (\"The old list after adding new element to new list  : \\\n",
    "\" + str(lis1))\n"
   ]
  },
  {
   "cell_type": "code",
   "execution_count": null,
   "id": "9d976c15-d992-4f81-b9b9-765456c9c767",
   "metadata": {},
   "outputs": [],
   "source": []
  },
  {
   "cell_type": "markdown",
   "id": "086b96fd-dfa6-4a08-ba6a-f4e4cbee9827",
   "metadata": {},
   "source": [
    "* ### Clear() Method:\n",
    "* list clear() is an in-built function in Python, that is used to delete every element from a list. It can make any list into a null list and should be used with caution. \r\n",
    "It is one of the most basic and known list operations. It is very useful for re-using a list, as you can delete every element from that list."
   ]
  },
  {
   "cell_type": "markdown",
   "id": "ce7dd900-2326-4d6f-a53e-f406b60d841f",
   "metadata": {},
   "source": [
    "* https://www.geeksforgeeks.org/python-list-clear-method/?ref=lbp\n",
    "* Examples:"
   ]
  },
  {
   "cell_type": "code",
   "execution_count": 30,
   "id": "3e4176ce-595f-4fac-bb07-15bbed9d2321",
   "metadata": {},
   "outputs": [
    {
     "name": "stdout",
     "output_type": "stream",
     "text": [
      "[[], [0, 1, 0], [0, 1, 1]]\n"
     ]
    }
   ],
   "source": [
    "# Defining a 2-d list\n",
    "lis = [[0, 0, 1],\n",
    "\t[0, 1, 0],\n",
    "\t[0, 1, 1]]\n",
    "\n",
    "# clearing the list\n",
    "lis[0].clear()\n",
    "\n",
    "print(lis)\n"
   ]
  },
  {
   "cell_type": "code",
   "execution_count": null,
   "id": "99878866-e38e-4c77-b5eb-aa2ede46e13c",
   "metadata": {},
   "outputs": [],
   "source": []
  },
  {
   "cell_type": "code",
   "execution_count": 31,
   "id": "195fa42b-6e4c-43ca-8ffd-df8fb7c7400c",
   "metadata": {},
   "outputs": [
    {
     "name": "stdout",
     "output_type": "stream",
     "text": [
      "List after using clear(): []\n",
      "List after using del: []\n"
     ]
    }
   ],
   "source": [
    "lis_1 = [1, 3, 5]\n",
    "\n",
    "lis_2 = [7, 9, 11]\n",
    "\n",
    "# using clear method\n",
    "lis_1.clear()\n",
    "print(\"List after using clear():\", lis_1)\n",
    "\n",
    "# using del to clear items\n",
    "del lis_2[:]\n",
    "print(\"List after using del:\", lis_2)\n"
   ]
  },
  {
   "cell_type": "code",
   "execution_count": null,
   "id": "06204421-0b45-49ff-8e35-0402f2cfda08",
   "metadata": {},
   "outputs": [],
   "source": []
  },
  {
   "cell_type": "markdown",
   "id": "f6418c76-285b-438a-bfa7-2a14293ff5a7",
   "metadata": {},
   "source": [
    "* ### Sort() Method:\n",
    "* list sort() function is an in-built function in Python, that is used to sort the values of a list in ascending or descending order. By default it sorts values in ascending order. \r\n",
    "It is a very useful and simple list operation. It changes the original list instead of returning the new ones."
   ]
  },
  {
   "cell_type": "markdown",
   "id": "0bec1780-dad5-4fed-b27f-fa10d78a5be0",
   "metadata": {},
   "source": [
    "* https://www.geeksforgeeks.org/python-list-sort-method/?ref=lbp\n",
    "* Examples:\n",
    "  "
   ]
  },
  {
   "cell_type": "code",
   "execution_count": 32,
   "id": "59f1d0c1-12bf-4bb1-a82f-56f6e2a58ebd",
   "metadata": {},
   "outputs": [
    {
     "name": "stdout",
     "output_type": "stream",
     "text": [
      "None\n",
      "[1, 2, 3, 4]\n"
     ]
    }
   ],
   "source": [
    "numbers = [1, 3, 4, 2]\n",
    "# Sorting list of Integers in ascending\n",
    "print(numbers.sort())\n",
    "print(numbers)\n"
   ]
  },
  {
   "cell_type": "code",
   "execution_count": null,
   "id": "0feb0bcc-3872-4f46-b495-ca07dc80f4e9",
   "metadata": {},
   "outputs": [],
   "source": []
  },
  {
   "cell_type": "code",
   "execution_count": 33,
   "id": "894dcd05-2bb8-4de0-9871-bbeb219252cb",
   "metadata": {},
   "outputs": [
    {
     "name": "stdout",
     "output_type": "stream",
     "text": [
      "[(1, 1), (1, 2), (3, 3)]\n",
      "[(3, 3), (1, 2), (1, 1)]\n"
     ]
    }
   ],
   "source": [
    "def sortSecond(val):\n",
    "    return val[1]\n",
    "my_list1 = [(1, 2), (3, 3), (1, 1)]\n",
    "my_list1.sort(key=sortSecond)\n",
    "print(my_list1)\n",
    "my_list1.sort(key=sortSecond, reverse=True)\n",
    "print(my_list1)\n"
   ]
  },
  {
   "cell_type": "code",
   "execution_count": null,
   "id": "4a1d20bf-9e2e-4c8f-96af-8f7dad04dd30",
   "metadata": {},
   "outputs": [],
   "source": []
  }
 ],
 "metadata": {
  "kernelspec": {
   "display_name": "Python 3 (ipykernel)",
   "language": "python",
   "name": "python3"
  },
  "language_info": {
   "codemirror_mode": {
    "name": "ipython",
    "version": 3
   },
   "file_extension": ".py",
   "mimetype": "text/x-python",
   "name": "python",
   "nbconvert_exporter": "python",
   "pygments_lexer": "ipython3",
   "version": "3.12.4"
  }
 },
 "nbformat": 4,
 "nbformat_minor": 5
}
